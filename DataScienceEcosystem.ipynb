{
 "cells": [
  {
   "cell_type": "markdown",
   "id": "3a5266d8",
   "metadata": {},
   "source": [
    "# Data Science Tools and Ecosystem"
   ]
  },
  {
   "cell_type": "markdown",
   "id": "1bbbbef9",
   "metadata": {},
   "source": [
    "This notebook will be used to summarize Data Science tools and ecosystems."
   ]
  },
  {
   "cell_type": "markdown",
   "id": "ebc58a42",
   "metadata": {},
   "source": [
    "**Objectives:**\n",
    "- List most common languages in data science\n",
    "- List most popular libraries\n",
    "- List common developing environments\n",
    "- Complete simple arithmetic operations"
   ]
  },
  {
   "cell_type": "markdown",
   "id": "824d90e2",
   "metadata": {},
   "source": [
    "Some of the most common languages used in data science are:\n",
    "1. Python\n",
    "2. R\n",
    "3. SQL\n",
    "4. C++\n",
    "5. Java\n"
   ]
  },
  {
   "cell_type": "markdown",
   "id": "95c7f8b4",
   "metadata": {},
   "source": [
    "Some of the most popular libraries in data science include:\n",
    "1. Pandas\n",
    "2. NumPy\n",
    "3. SciPy\n",
    "4. TensorFlow\n",
    "5. Ggplot"
   ]
  },
  {
   "cell_type": "markdown",
   "id": "143ca7a5",
   "metadata": {},
   "source": [
    "|Data Science Tools|\n",
    "|------------------|\n",
    "|RStudio|\n",
    "|VisualStudio|\n",
    "|JupyterLab|\n"
   ]
  },
  {
   "cell_type": "markdown",
   "id": "10fb4556",
   "metadata": {},
   "source": [
    "### Below are a few examples of evaluating arithmetic expressions in Python."
   ]
  },
  {
   "cell_type": "code",
   "execution_count": 2,
   "id": "b332fc3c",
   "metadata": {},
   "outputs": [
    {
     "data": {
      "text/plain": [
       "17"
      ]
     },
     "execution_count": 2,
     "metadata": {},
     "output_type": "execute_result"
    }
   ],
   "source": [
    "# simple arithmetic operation including multiplication and addition. \n",
    "\n",
    "(3*4)+5"
   ]
  },
  {
   "cell_type": "code",
   "execution_count": 19,
   "id": "12886333",
   "metadata": {},
   "outputs": [
    {
     "name": "stdout",
     "output_type": "stream",
     "text": [
      "hours in 200 min: 3\n"
     ]
    }
   ],
   "source": [
    "# operation transforming minutes to hours.\n",
    "\n",
    "minutes = 200\n",
    "\n",
    "hours = minutes // 60\n",
    "\n",
    "print(\"hours in 200 min:\",hours)"
   ]
  },
  {
   "cell_type": "markdown",
   "id": "bd59916e",
   "metadata": {},
   "source": [
    "## Author:\n",
    "Valentina Parraga"
   ]
  },
  {
   "cell_type": "code",
   "execution_count": null,
   "id": "208c7ea4",
   "metadata": {},
   "outputs": [],
   "source": []
  }
 ],
 "metadata": {
  "kernelspec": {
   "display_name": "Python 3 (ipykernel)",
   "language": "python",
   "name": "python3"
  },
  "language_info": {
   "codemirror_mode": {
    "name": "ipython",
    "version": 3
   },
   "file_extension": ".py",
   "mimetype": "text/x-python",
   "name": "python",
   "nbconvert_exporter": "python",
   "pygments_lexer": "ipython3",
   "version": "3.8.2"
  }
 },
 "nbformat": 4,
 "nbformat_minor": 5
}
